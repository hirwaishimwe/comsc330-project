{
 "cells": [
  {
   "cell_type": "code",
   "execution_count": 1,
   "metadata": {},
   "outputs": [
    {
     "data": {
      "text/plain": [
       "<Figure size 640x480 with 0 Axes>"
      ]
     },
     "metadata": {},
     "output_type": "display_data"
    }
   ],
   "source": [
    "from run import run\n",
    "\n",
    "if __name__ == \"__main__\":\n",
    "\n",
    "    #input a file and create a run obj\n",
    "    this_run = run (\"TESTRUN.RUN\")\n",
    "\n",
    "    #get the run output\n",
    "    this_run.output()\n",
    "\n",
    "    '''\n",
    "    '#87CEFA'\n",
    "    '#ff7f0e'\n",
    "    '#FFFACD'\n",
    "    '#1f77b4'\n",
    "    '''"
   ]
  }
 ],
 "metadata": {
  "kernelspec": {
   "display_name": "base",
   "language": "python",
   "name": "python3"
  },
  "language_info": {
   "codemirror_mode": {
    "name": "ipython",
    "version": 3
   },
   "file_extension": ".py",
   "mimetype": "text/x-python",
   "name": "python",
   "nbconvert_exporter": "python",
   "pygments_lexer": "ipython3",
   "version": "3.10.9"
  },
  "orig_nbformat": 4
 },
 "nbformat": 4,
 "nbformat_minor": 2
}
